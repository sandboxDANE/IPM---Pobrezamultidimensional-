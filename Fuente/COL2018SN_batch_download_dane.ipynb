{
  "nbformat": 4,
  "nbformat_minor": 0,
  "metadata": {
    "colab": {
      "name": "COL2018SN_batch_download_dane.ipynb",
      "provenance": [],
      "collapsed_sections": []
    },
    "kernelspec": {
      "name": "python3",
      "display_name": "Python 3"
    }
  },
  "cells": [
    {
      "cell_type": "markdown",
      "metadata": {
        "id": "VdrVV9apkgMT"
      },
      "source": [
        "sets up gdrive\n"
      ]
    },
    {
      "cell_type": "code",
      "metadata": {
        "id": "BxJgwkFurpYU",
        "colab": {
          "base_uri": "https://localhost:8080/"
        },
        "outputId": "7f05ab72-fa81-4fbb-ac28-25e4016016ec"
      },
      "source": [
        "from google.colab import drive\n",
        "drive.mount('/content/gdrive')#, force_remount=True)\n",
        "root_dir = \"/content/gdrive/My Drive/\"\n",
        "#base_dir = root_dir + 'fastai-v3/'"
      ],
      "execution_count": null,
      "outputs": [
        {
          "output_type": "stream",
          "text": [
            "Mounted at /content/gdrive\n"
          ],
          "name": "stdout"
        }
      ]
    },
    {
      "cell_type": "markdown",
      "metadata": {
        "id": "egEH0HyZ5Fus"
      },
      "source": [
        "the following three lines ensure that any edits to libraries you make are reloaded here automatically, and also that any charts or images displayed are shown in this notebook."
      ]
    },
    {
      "cell_type": "code",
      "metadata": {
        "id": "4cZ-08D35BkV"
      },
      "source": [
        "%reload_ext autoreload\n",
        "%autoreload 2\n",
        "%matplotlib inline"
      ],
      "execution_count": null,
      "outputs": []
    },
    {
      "cell_type": "markdown",
      "metadata": {
        "id": "UEM9_rnwkm7P"
      },
      "source": [
        " install secure connection library"
      ]
    },
    {
      "cell_type": "code",
      "metadata": {
        "id": "8FaOfSxAeQ2V",
        "colab": {
          "base_uri": "https://localhost:8080/"
        },
        "outputId": "5541f08c-b953-4f8b-a7b1-2a10c6ba8613"
      },
      "source": [
        "!pip install 'pyOpenSSL>=0.11'"
      ],
      "execution_count": null,
      "outputs": [
        {
          "output_type": "stream",
          "text": [
            "Collecting pyOpenSSL>=0.11\n",
            "\u001b[?25l  Downloading https://files.pythonhosted.org/packages/c9/86/e21398551956735fef8f7883908771445878ccb16cd17c0896176419cd75/pyOpenSSL-20.0.0-py2.py3-none-any.whl (54kB)\n",
            "\r\u001b[K     |██████                          | 10kB 16.0MB/s eta 0:00:01\r\u001b[K     |████████████▏                   | 20kB 19.8MB/s eta 0:00:01\r\u001b[K     |██████████████████▏             | 30kB 9.6MB/s eta 0:00:01\r\u001b[K     |████████████████████████▎       | 40kB 8.0MB/s eta 0:00:01\r\u001b[K     |██████████████████████████████▎ | 51kB 4.4MB/s eta 0:00:01\r\u001b[K     |████████████████████████████████| 61kB 3.3MB/s \n",
            "\u001b[?25hRequirement already satisfied: six>=1.5.2 in /usr/local/lib/python3.6/dist-packages (from pyOpenSSL>=0.11) (1.15.0)\n",
            "Collecting cryptography>=3.2\n",
            "\u001b[?25l  Downloading https://files.pythonhosted.org/packages/4c/a2/6565c5271a79e3c96d7a079053b4d8408a740d4bf365f0f5f244a807bd09/cryptography-3.2.1-cp35-abi3-manylinux2010_x86_64.whl (2.6MB)\n",
            "\u001b[K     |████████████████████████████████| 2.6MB 7.0MB/s \n",
            "\u001b[?25hRequirement already satisfied: cffi!=1.11.3,>=1.8 in /usr/local/lib/python3.6/dist-packages (from cryptography>=3.2->pyOpenSSL>=0.11) (1.14.3)\n",
            "Requirement already satisfied: pycparser in /usr/local/lib/python3.6/dist-packages (from cffi!=1.11.3,>=1.8->cryptography>=3.2->pyOpenSSL>=0.11) (2.20)\n",
            "Installing collected packages: cryptography, pyOpenSSL\n",
            "Successfully installed cryptography-3.2.1 pyOpenSSL-20.0.0\n"
          ],
          "name": "stdout"
        }
      ]
    },
    {
      "cell_type": "code",
      "metadata": {
        "id": "9x5gs5ZMe2E-",
        "colab": {
          "base_uri": "https://localhost:8080/"
        },
        "outputId": "585216e5-db58-4ec4-a9ec-c901e16f0f03"
      },
      "source": [
        "!pip install earthengine-api "
      ],
      "execution_count": null,
      "outputs": [
        {
          "output_type": "stream",
          "text": [
            "Requirement already satisfied: earthengine-api in /usr/local/lib/python3.6/dist-packages (0.1.238)\n",
            "Requirement already satisfied: google-auth>=1.4.1 in /usr/local/lib/python3.6/dist-packages (from earthengine-api) (1.17.2)\n",
            "Requirement already satisfied: httplib2<1dev,>=0.9.2 in /usr/local/lib/python3.6/dist-packages (from earthengine-api) (0.17.4)\n",
            "Requirement already satisfied: six in /usr/local/lib/python3.6/dist-packages (from earthengine-api) (1.15.0)\n",
            "Requirement already satisfied: google-cloud-storage in /usr/local/lib/python3.6/dist-packages (from earthengine-api) (1.18.1)\n",
            "Requirement already satisfied: httplib2shim in /usr/local/lib/python3.6/dist-packages (from earthengine-api) (0.0.3)\n",
            "Requirement already satisfied: google-auth-httplib2>=0.0.3 in /usr/local/lib/python3.6/dist-packages (from earthengine-api) (0.0.4)\n",
            "Requirement already satisfied: future in /usr/local/lib/python3.6/dist-packages (from earthengine-api) (0.16.0)\n",
            "Requirement already satisfied: google-api-python-client in /usr/local/lib/python3.6/dist-packages (from earthengine-api) (1.7.12)\n",
            "Requirement already satisfied: cachetools<5.0,>=2.0.0 in /usr/local/lib/python3.6/dist-packages (from google-auth>=1.4.1->earthengine-api) (4.1.1)\n",
            "Requirement already satisfied: rsa<5,>=3.1.4; python_version >= \"3\" in /usr/local/lib/python3.6/dist-packages (from google-auth>=1.4.1->earthengine-api) (4.6)\n",
            "Requirement already satisfied: pyasn1-modules>=0.2.1 in /usr/local/lib/python3.6/dist-packages (from google-auth>=1.4.1->earthengine-api) (0.2.8)\n",
            "Requirement already satisfied: setuptools>=40.3.0 in /usr/local/lib/python3.6/dist-packages (from google-auth>=1.4.1->earthengine-api) (50.3.2)\n",
            "Requirement already satisfied: google-resumable-media<0.5.0dev,>=0.3.1 in /usr/local/lib/python3.6/dist-packages (from google-cloud-storage->earthengine-api) (0.4.1)\n",
            "Requirement already satisfied: google-cloud-core<2.0dev,>=1.0.0 in /usr/local/lib/python3.6/dist-packages (from google-cloud-storage->earthengine-api) (1.0.3)\n",
            "Requirement already satisfied: urllib3 in /usr/local/lib/python3.6/dist-packages (from httplib2shim->earthengine-api) (1.24.3)\n",
            "Requirement already satisfied: certifi in /usr/local/lib/python3.6/dist-packages (from httplib2shim->earthengine-api) (2020.11.8)\n",
            "Requirement already satisfied: uritemplate<4dev,>=3.0.0 in /usr/local/lib/python3.6/dist-packages (from google-api-python-client->earthengine-api) (3.0.1)\n",
            "Requirement already satisfied: pyasn1>=0.1.3 in /usr/local/lib/python3.6/dist-packages (from rsa<5,>=3.1.4; python_version >= \"3\"->google-auth>=1.4.1->earthengine-api) (0.4.8)\n",
            "Requirement already satisfied: google-api-core<2.0.0dev,>=1.14.0 in /usr/local/lib/python3.6/dist-packages (from google-cloud-core<2.0dev,>=1.0.0->google-cloud-storage->earthengine-api) (1.16.0)\n",
            "Requirement already satisfied: requests<3.0.0dev,>=2.18.0 in /usr/local/lib/python3.6/dist-packages (from google-api-core<2.0.0dev,>=1.14.0->google-cloud-core<2.0dev,>=1.0.0->google-cloud-storage->earthengine-api) (2.23.0)\n",
            "Requirement already satisfied: protobuf>=3.4.0 in /usr/local/lib/python3.6/dist-packages (from google-api-core<2.0.0dev,>=1.14.0->google-cloud-core<2.0dev,>=1.0.0->google-cloud-storage->earthengine-api) (3.12.4)\n",
            "Requirement already satisfied: pytz in /usr/local/lib/python3.6/dist-packages (from google-api-core<2.0.0dev,>=1.14.0->google-cloud-core<2.0dev,>=1.0.0->google-cloud-storage->earthengine-api) (2018.9)\n",
            "Requirement already satisfied: googleapis-common-protos<2.0dev,>=1.6.0 in /usr/local/lib/python3.6/dist-packages (from google-api-core<2.0.0dev,>=1.14.0->google-cloud-core<2.0dev,>=1.0.0->google-cloud-storage->earthengine-api) (1.52.0)\n",
            "Requirement already satisfied: chardet<4,>=3.0.2 in /usr/local/lib/python3.6/dist-packages (from requests<3.0.0dev,>=2.18.0->google-api-core<2.0.0dev,>=1.14.0->google-cloud-core<2.0dev,>=1.0.0->google-cloud-storage->earthengine-api) (3.0.4)\n",
            "Requirement already satisfied: idna<3,>=2.5 in /usr/local/lib/python3.6/dist-packages (from requests<3.0.0dev,>=2.18.0->google-api-core<2.0.0dev,>=1.14.0->google-cloud-core<2.0dev,>=1.0.0->google-cloud-storage->earthengine-api) (2.10)\n"
          ],
          "name": "stdout"
        }
      ]
    },
    {
      "cell_type": "markdown",
      "metadata": {
        "id": "nLp6-VARkvCQ"
      },
      "source": [
        "authenticate earthengine to work with your google account"
      ]
    },
    {
      "cell_type": "code",
      "metadata": {
        "id": "tjL1jWzHhKWf",
        "colab": {
          "base_uri": "https://localhost:8080/"
        },
        "outputId": "4632d374-08b5-477e-a286-2d4e297206be"
      },
      "source": [
        "!earthengine authenticate"
      ],
      "execution_count": null,
      "outputs": [
        {
          "output_type": "stream",
          "text": [
            "WARNING:tensorflow:From /usr/local/lib/python3.6/dist-packages/tensorflow/python/compat/v2_compat.py:96: disable_resource_variables (from tensorflow.python.ops.variable_scope) is deprecated and will be removed in a future version.\n",
            "Instructions for updating:\n",
            "non-resource variables are not supported in the long term\n",
            "Running command using Cloud API.  Set --no-use_cloud_api to go back to using the API\n",
            "\n",
            "To authorize access needed by Earth Engine, open the following URL in a web browser and follow the instructions. If the web browser does not start automatically, please manually browse the URL below.\n",
            "\n",
            "    https://accounts.google.com/o/oauth2/auth?client_id=517222506229-vsmmajv00ul0bs7p89v5m89qs8eb9359.apps.googleusercontent.com&scope=https%3A%2F%2Fwww.googleapis.com%2Fauth%2Fearthengine+https%3A%2F%2Fwww.googleapis.com%2Fauth%2Fdevstorage.full_control&redirect_uri=urn%3Aietf%3Awg%3Aoauth%3A2.0%3Aoob&response_type=code&code_challenge=4nronnioqrheVJ6noJ3MI3po68z6UXSyg5gfGWDkU1Q&code_challenge_method=S256\n",
            "\n",
            "The authorization workflow will generate a code, which you should paste in the box below. \n",
            "Enter verification code: 4/1AY0e-g5xIGM6d-tUpDFReKSmXfu-HBLzH52lNWc_0Z0tzqwtFcmg3lSVnQI\n",
            "\n",
            "Successfully saved authorization token.\n"
          ],
          "name": "stdout"
        }
      ]
    },
    {
      "cell_type": "markdown",
      "metadata": {
        "id": "K-fM-emak5H6"
      },
      "source": [
        "test correct earthengine setup for notebook, if no error then ok :)"
      ]
    },
    {
      "cell_type": "code",
      "metadata": {
        "id": "xJGjSh5IiA_u"
      },
      "source": [
        "import ee; ee.Initialize();"
      ],
      "execution_count": null,
      "outputs": []
    },
    {
      "cell_type": "code",
      "metadata": {
        "id": "RUMRqMyuym06"
      },
      "source": [
        "!pip install -U -q PyDrive"
      ],
      "execution_count": null,
      "outputs": []
    },
    {
      "cell_type": "markdown",
      "metadata": {
        "id": "eH2_-X1flWbx"
      },
      "source": [
        "sets up gdrive within earthengine for input and output"
      ]
    },
    {
      "cell_type": "code",
      "metadata": {
        "id": "1YirwRGVyvHq"
      },
      "source": [
        "from pydrive.auth import GoogleAuth\n",
        "from pydrive.drive import GoogleDrive\n",
        "from google.colab import auth\n",
        "from oauth2client.client import GoogleCredentials\n",
        "# Authenticate and create the PyDrive client.\n",
        "auth.authenticate_user()\n",
        "gauth = GoogleAuth()\n",
        "gauth.credentials = GoogleCredentials.get_application_default()\n",
        "drive = GoogleDrive(gauth)"
      ],
      "execution_count": null,
      "outputs": []
    },
    {
      "cell_type": "markdown",
      "metadata": {
        "id": "i6LYW_szlckA"
      },
      "source": [
        "import csv from gdrive"
      ]
    },
    {
      "cell_type": "code",
      "metadata": {
        "id": "l5isZmtgy_0k",
        "colab": {
          "base_uri": "https://localhost:8080/"
        },
        "outputId": "a0582e91-a285-49d9-ecdb-cf4f1dc0a33f"
      },
      "source": [
        "#paste into link the link of csv file on your gdrive\n",
        "import pandas as pd\n",
        "link = 'https://drive.google.com/open?id=1PNEBapzfHtLvP6lV863Lmyr2t747yG4I'\n",
        "fluff, id = link.split('=')\n",
        "print (id) # Verify that you have everything after '='\n",
        "downloaded = drive.CreateFile({'id':id}) \n",
        "downloaded.GetContentFile('CNN_CENI_COL_3840_ALL.csv')  \n",
        "df3 = pd.read_csv('CNN_CENI_COL_3840_ALL.csv')\n",
        "# Dataset is now stored in a Pandas Dataframe\n",
        "\n",
        "#cnn_col_2018_annual_month_median_nl"
      ],
      "execution_count": null,
      "outputs": [
        {
          "output_type": "stream",
          "text": [
            "1PNEBapzfHtLvP6lV863Lmyr2t747yG4I\n"
          ],
          "name": "stdout"
        }
      ]
    },
    {
      "cell_type": "markdown",
      "metadata": {
        "id": "P_P_TNGHlhgJ"
      },
      "source": [
        "check sample of csv"
      ]
    },
    {
      "cell_type": "code",
      "metadata": {
        "id": "bpuPKOxBmj7y",
        "colab": {
          "base_uri": "https://localhost:8080/",
          "height": 235
        },
        "outputId": "b2f9063c-2ab6-4ebf-9a97-c403c7c7f111"
      },
      "source": [
        "# Set the id = rownumber as index of the DataFrame\n",
        "df3 = df3.set_index('id')\n",
        "df3.head()"
      ],
      "execution_count": null,
      "outputs": [
        {
          "output_type": "execute_result",
          "data": {
            "text/html": [
              "<div>\n",
              "<style scoped>\n",
              "    .dataframe tbody tr th:only-of-type {\n",
              "        vertical-align: middle;\n",
              "    }\n",
              "\n",
              "    .dataframe tbody tr th {\n",
              "        vertical-align: top;\n",
              "    }\n",
              "\n",
              "    .dataframe thead th {\n",
              "        text-align: right;\n",
              "    }\n",
              "</style>\n",
              "<table border=\"1\" class=\"dataframe\">\n",
              "  <thead>\n",
              "    <tr style=\"text-align: right;\">\n",
              "      <th></th>\n",
              "      <th>lat</th>\n",
              "      <th>long</th>\n",
              "    </tr>\n",
              "    <tr>\n",
              "      <th>id</th>\n",
              "      <th></th>\n",
              "      <th></th>\n",
              "    </tr>\n",
              "  </thead>\n",
              "  <tbody>\n",
              "    <tr>\n",
              "      <th>1</th>\n",
              "      <td>-4.191180</td>\n",
              "      <td>-69.973730</td>\n",
              "    </tr>\n",
              "    <tr>\n",
              "      <th>2</th>\n",
              "      <td>-4.191180</td>\n",
              "      <td>-69.939235</td>\n",
              "    </tr>\n",
              "    <tr>\n",
              "      <th>3</th>\n",
              "      <td>-4.156684</td>\n",
              "      <td>-69.973730</td>\n",
              "    </tr>\n",
              "    <tr>\n",
              "      <th>4</th>\n",
              "      <td>-4.156684</td>\n",
              "      <td>-69.939235</td>\n",
              "    </tr>\n",
              "    <tr>\n",
              "      <th>5</th>\n",
              "      <td>-4.122189</td>\n",
              "      <td>-70.008225</td>\n",
              "    </tr>\n",
              "  </tbody>\n",
              "</table>\n",
              "</div>"
            ],
            "text/plain": [
              "         lat       long\n",
              "id                     \n",
              "1  -4.191180 -69.973730\n",
              "2  -4.191180 -69.939235\n",
              "3  -4.156684 -69.973730\n",
              "4  -4.156684 -69.939235\n",
              "5  -4.122189 -70.008225"
            ]
          },
          "metadata": {
            "tags": []
          },
          "execution_count": 10
        }
      ]
    },
    {
      "cell_type": "code",
      "metadata": {
        "colab": {
          "base_uri": "https://localhost:8080/",
          "height": 159
        },
        "id": "8hKcmdzELlNR",
        "outputId": "70cd4bbd-479b-4ec1-953c-148972bee77d"
      },
      "source": [
        "#import pandas as pd\n",
        "\n",
        "#df1 = pd.read_csv('codigos_imagenes.csv')\n",
        "#df1.head()\n",
        "\n",
        "\n",
        "#paste into link the link of csv file on your gdrive\n",
        "import pandas as pd\n",
        "link = \"https://drive.google.com/open?id=1VX_EhehJQ7s7hkqPc4XIzRXp3ZdXPNFC\"\n",
        "fluff, id = link.split('=')\n",
        "print (id) # Verify that you have everything after '='\n",
        "downloaded = drive.CreateFile({'id':id}) \n",
        "downloaded.GetContentFile('codigos_imagenes.csv')  \n",
        "df1 = pd.read_csv('codigos_imagenes.csv')\n",
        "\n",
        "df1 = df1[df1.id > 77472]\n",
        "# Dataset is now stored in a Pandas Dataframe\n",
        "df1.head()"
      ],
      "execution_count": null,
      "outputs": [
        {
          "output_type": "stream",
          "text": [
            "1VX_EhehJQ7s7hkqPc4XIzRXp3ZdXPNFC\n"
          ],
          "name": "stdout"
        },
        {
          "output_type": "execute_result",
          "data": {
            "text/html": [
              "<div>\n",
              "<style scoped>\n",
              "    .dataframe tbody tr th:only-of-type {\n",
              "        vertical-align: middle;\n",
              "    }\n",
              "\n",
              "    .dataframe tbody tr th {\n",
              "        vertical-align: top;\n",
              "    }\n",
              "\n",
              "    .dataframe thead th {\n",
              "        text-align: right;\n",
              "    }\n",
              "</style>\n",
              "<table border=\"1\" class=\"dataframe\">\n",
              "  <thead>\n",
              "    <tr style=\"text-align: right;\">\n",
              "      <th></th>\n",
              "      <th>id</th>\n",
              "    </tr>\n",
              "  </thead>\n",
              "  <tbody>\n",
              "    <tr>\n",
              "      <th>3837</th>\n",
              "      <td>77975</td>\n",
              "    </tr>\n",
              "    <tr>\n",
              "      <th>3838</th>\n",
              "      <td>77976</td>\n",
              "    </tr>\n",
              "    <tr>\n",
              "      <th>3839</th>\n",
              "      <td>77977</td>\n",
              "    </tr>\n",
              "  </tbody>\n",
              "</table>\n",
              "</div>"
            ],
            "text/plain": [
              "         id\n",
              "3837  77975\n",
              "3838  77976\n",
              "3839  77977"
            ]
          },
          "metadata": {
            "tags": []
          },
          "execution_count": 11
        }
      ]
    },
    {
      "cell_type": "code",
      "metadata": {
        "colab": {
          "base_uri": "https://localhost:8080/"
        },
        "id": "gS0A_tFHNFMQ",
        "outputId": "4c0c73fa-d29f-4c9b-e726-b562b0be1e86"
      },
      "source": [
        "# Create an empty list \n",
        "Row_list =[] \n",
        "\n",
        "# Iterate over each row \n",
        "for index, rows in df1.iterrows(): \n",
        "\t# Create list for the current row \n",
        "\tmy_list =rows.id\n",
        "\t\n",
        "\t# append the list to the final list \n",
        "\tRow_list.append(my_list) \n",
        "\n",
        "# Print the list \n",
        "print(Row_list) \n",
        "\n"
      ],
      "execution_count": null,
      "outputs": [
        {
          "output_type": "stream",
          "text": [
            "[77975, 77976, 77977]\n"
          ],
          "name": "stdout"
        }
      ]
    },
    {
      "cell_type": "code",
      "metadata": {
        "id": "ll8ARWccTBDa"
      },
      "source": [
        ""
      ],
      "execution_count": null,
      "outputs": []
    },
    {
      "cell_type": "code",
      "metadata": {
        "id": "5ljLEnKfOjik"
      },
      "source": [
        "for i in Row_list: \n",
        "  print(i)"
      ],
      "execution_count": null,
      "outputs": []
    },
    {
      "cell_type": "code",
      "metadata": {
        "id": "Uk8HdQKtfneO"
      },
      "source": [
        "#SENTINEL export\n",
        "\n",
        "import ee\n",
        "\n",
        "ee.Initialize()\n",
        "\n",
        "##################################\n",
        "#manually created bounding polygon for Colombia\n",
        "\n",
        "#COLOMBIA\n",
        "tha_shp = ee.Geometry.Polygon(\n",
        "        [[[-78.9909352282, 12.4373031682],\n",
        "          [-78.9909352282, -4.29818694419],\n",
        "          [-66.8763258531, -4.29818694419],\n",
        "          [-66.8763258531, 12.4373031682]]]);\n",
        "\n",
        "#SENTINEL START\n",
        "#/**\n",
        "# * Function to mask clouds using the Sentinel-2 QA band\n",
        "# * @param {ee.Image} image Sentinel-2 image\n",
        "# * @return {ee.Image} cloud masked Sentinel-2 image\n",
        "# */\n",
        "def maskS2clouds(image):\n",
        "    qa = image.select('QA60')\n",
        "#  // Bits 10 and 11 are clouds and cirrus, respectively.\n",
        "    cloudBitMask = 1 << 10\n",
        "    cirrusBitMask = 1 << 11\n",
        "#  // Both flags should be set to zero, indicating clear conditions.\n",
        "    mask = qa.bitwiseAnd(cloudBitMask).eq(0).And(qa.bitwiseAnd(cirrusBitMask).eq(0))\n",
        "    return image.updateMask(mask).divide(10000)\n",
        "\n",
        "\n",
        "#// Map the function over one year of data and take the median.\n",
        "#// Load Sentinel-2 TOA reflectance data.\n",
        "\n",
        "rgbVis = {'min': 0.0,'max': 0.3,'bands': ['B4', 'B3', 'B2'],}\n",
        "\n",
        "dataset = ee.ImageCollection('COPERNICUS/S2').filterDate('2018-01-01', '2018-12-31').filterBounds(tha_shp).filter(ee.Filter.lt('CLOUDY_PIXEL_PERCENTAGE', 60)).map(maskS2clouds)\n",
        "\n",
        "upres = dataset.median().visualize(**rgbVis)\n",
        "\n",
        "#################################\n",
        "\n",
        "#downloaded image is black -> switch coordinates :)\n",
        "\n",
        "#all bands must have the same data type when exporting, you should download only the bands you need and cast them to a type that suit all bands.\n",
        "##################################\n",
        "\n",
        "# gives a tuple of column name and series \n",
        "# for each column in the dataframe \n",
        "\n",
        "#i = 1\n",
        "#77979\n",
        "for i in Row_list: #for i in range(301,350): \n",
        "  #if i == 300 :# i > 0 and i < 300 :\n",
        "    c_lon = df3['long'][i]\n",
        "    c_lat = df3['lat'][i]\n",
        "    geometry = ee.Geometry.Point([c_lon, c_lat]).buffer(1920)#1920metres because we want resolution of image 384x384 pixels -> 10x384/2 = 1920\n",
        "    geometry = geometry.getInfo()['coordinates'][0]\n",
        "    task_config = {\n",
        "        'scale': 10,\n",
        "        'region': geometry,\n",
        "        'driveFolder': 'CNN_IMGB_COL_2018_ST_384_TIF_3840_13_ALL_SEBAS',\n",
        "    }\n",
        "\n",
        "    task = ee.batch.Export.image(upres, 'CNN_DIMG_COL_2018_ST_384_3840_13_' + '{:06d}'.format(i), task_config)\n",
        "  \n",
        "        #print('Export Image '+ str(i)+ ' was submitted, please wait ...');\n",
        "\n",
        "    task.start()\n"
      ],
      "execution_count": null,
      "outputs": []
    },
    {
      "cell_type": "code",
      "metadata": {
        "id": "ItTFrzco0cQi"
      },
      "source": [
        ""
      ],
      "execution_count": null,
      "outputs": []
    }
  ]
}
