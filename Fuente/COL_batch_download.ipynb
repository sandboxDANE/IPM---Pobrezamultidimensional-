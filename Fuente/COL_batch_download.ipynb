{
  "nbformat": 4,
  "nbformat_minor": 0,
  "metadata": {
    "colab": {
      "name": "COL2018SN_batch_download.ipynb",
      "provenance": [],
      "collapsed_sections": []
    },
    "kernelspec": {
      "display_name": "Python 3",
      "name": "python3"
    }
  },
  "cells": [
    {
      "cell_type": "markdown",
      "metadata": {
        "id": "VdrVV9apkgMT"
      },
      "source": [
        "sets up gdrive\n"
      ]
    },
    {
      "cell_type": "code",
      "metadata": {
        "colab": {
          "base_uri": "https://localhost:8080/"
        },
        "id": "BxJgwkFurpYU",
        "outputId": "6eac0d92-44ca-40c8-c900-6970f23c8533"
      },
      "source": [
        "from google.colab import drive\n",
        "drive.mount('/content/gdrive')#, force_remount=True)\n",
        "root_dir = \"/content/gdrive/My Drive/\"\n",
        "#base_dir = root_dir + 'fastai-v3/'"
      ],
      "execution_count": 1,
      "outputs": [
        {
          "output_type": "stream",
          "text": [
            "Mounted at /content/gdrive\n"
          ],
          "name": "stdout"
        }
      ]
    },
    {
      "cell_type": "markdown",
      "metadata": {
        "id": "egEH0HyZ5Fus"
      },
      "source": [
        "the following three lines ensure that any edits to libraries you make are reloaded here automatically, and also that any charts or images displayed are shown in this notebook."
      ]
    },
    {
      "cell_type": "code",
      "metadata": {
        "id": "4cZ-08D35BkV"
      },
      "source": [
        "%reload_ext autoreload\n",
        "%autoreload 2\n",
        "%matplotlib inline"
      ],
      "execution_count": 2,
      "outputs": []
    },
    {
      "cell_type": "markdown",
      "metadata": {
        "id": "UEM9_rnwkm7P"
      },
      "source": [
        " install secure connection library"
      ]
    },
    {
      "cell_type": "code",
      "metadata": {
        "colab": {
          "base_uri": "https://localhost:8080/"
        },
        "id": "8FaOfSxAeQ2V",
        "outputId": "e7e848e6-594b-438d-dc41-9152c146a336"
      },
      "source": [
        "!pip install 'pyOpenSSL>=0.11'"
      ],
      "execution_count": 3,
      "outputs": [
        {
          "output_type": "stream",
          "text": [
            "Collecting pyOpenSSL>=0.11\n",
            "\u001b[?25l  Downloading https://files.pythonhosted.org/packages/b2/5e/06351ede29fd4899782ad335c2e02f1f862a887c20a3541f17c3fa1a3525/pyOpenSSL-20.0.1-py2.py3-none-any.whl (54kB)\n",
            "\u001b[K     |████████████████████████████████| 61kB 3.1MB/s \n",
            "\u001b[?25hCollecting cryptography>=3.2\n",
            "\u001b[?25l  Downloading https://files.pythonhosted.org/packages/f8/1f/acde6ff69864c5e78b56488e3afd93c1ccc8c2651186e2a5f93d93f64859/cryptography-3.4.6-cp36-abi3-manylinux2014_x86_64.whl (3.2MB)\n",
            "\u001b[K     |████████████████████████████████| 3.2MB 5.9MB/s \n",
            "\u001b[?25hRequirement already satisfied: six>=1.5.2 in /usr/local/lib/python3.7/dist-packages (from pyOpenSSL>=0.11) (1.15.0)\n",
            "Requirement already satisfied: cffi>=1.12 in /usr/local/lib/python3.7/dist-packages (from cryptography>=3.2->pyOpenSSL>=0.11) (1.14.5)\n",
            "Requirement already satisfied: pycparser in /usr/local/lib/python3.7/dist-packages (from cffi>=1.12->cryptography>=3.2->pyOpenSSL>=0.11) (2.20)\n",
            "Installing collected packages: cryptography, pyOpenSSL\n",
            "Successfully installed cryptography-3.4.6 pyOpenSSL-20.0.1\n"
          ],
          "name": "stdout"
        }
      ]
    },
    {
      "cell_type": "code",
      "metadata": {
        "colab": {
          "base_uri": "https://localhost:8080/"
        },
        "id": "9x5gs5ZMe2E-",
        "outputId": "9ff2f95e-7456-4a90-80eb-838db60a1962"
      },
      "source": [
        "!pip install earthengine-api "
      ],
      "execution_count": 4,
      "outputs": [
        {
          "output_type": "stream",
          "text": [
            "Requirement already satisfied: earthengine-api in /usr/local/lib/python3.7/dist-packages (0.1.255)\n",
            "Requirement already satisfied: future in /usr/local/lib/python3.7/dist-packages (from earthengine-api) (0.16.0)\n",
            "Requirement already satisfied: six in /usr/local/lib/python3.7/dist-packages (from earthengine-api) (1.15.0)\n",
            "Requirement already satisfied: google-auth>=1.4.1 in /usr/local/lib/python3.7/dist-packages (from earthengine-api) (1.27.1)\n",
            "Requirement already satisfied: httplib2<1dev,>=0.9.2 in /usr/local/lib/python3.7/dist-packages (from earthengine-api) (0.17.4)\n",
            "Requirement already satisfied: google-api-python-client>=1.12.1 in /usr/local/lib/python3.7/dist-packages (from earthengine-api) (1.12.8)\n",
            "Requirement already satisfied: httplib2shim in /usr/local/lib/python3.7/dist-packages (from earthengine-api) (0.0.3)\n",
            "Requirement already satisfied: google-auth-httplib2>=0.0.3 in /usr/local/lib/python3.7/dist-packages (from earthengine-api) (0.0.4)\n",
            "Requirement already satisfied: google-cloud-storage in /usr/local/lib/python3.7/dist-packages (from earthengine-api) (1.18.1)\n",
            "Requirement already satisfied: setuptools>=40.3.0 in /usr/local/lib/python3.7/dist-packages (from google-auth>=1.4.1->earthengine-api) (54.0.0)\n",
            "Requirement already satisfied: cachetools<5.0,>=2.0.0 in /usr/local/lib/python3.7/dist-packages (from google-auth>=1.4.1->earthengine-api) (4.2.1)\n",
            "Requirement already satisfied: rsa<5,>=3.1.4; python_version >= \"3.6\" in /usr/local/lib/python3.7/dist-packages (from google-auth>=1.4.1->earthengine-api) (4.7.2)\n",
            "Requirement already satisfied: pyasn1-modules>=0.2.1 in /usr/local/lib/python3.7/dist-packages (from google-auth>=1.4.1->earthengine-api) (0.2.8)\n",
            "Requirement already satisfied: uritemplate<4dev,>=3.0.0 in /usr/local/lib/python3.7/dist-packages (from google-api-python-client>=1.12.1->earthengine-api) (3.0.1)\n",
            "Requirement already satisfied: google-api-core<2dev,>=1.21.0 in /usr/local/lib/python3.7/dist-packages (from google-api-python-client>=1.12.1->earthengine-api) (1.26.1)\n",
            "Requirement already satisfied: certifi in /usr/local/lib/python3.7/dist-packages (from httplib2shim->earthengine-api) (2020.12.5)\n",
            "Requirement already satisfied: urllib3 in /usr/local/lib/python3.7/dist-packages (from httplib2shim->earthengine-api) (1.24.3)\n",
            "Requirement already satisfied: google-cloud-core<2.0dev,>=1.0.0 in /usr/local/lib/python3.7/dist-packages (from google-cloud-storage->earthengine-api) (1.0.3)\n",
            "Requirement already satisfied: google-resumable-media<0.5.0dev,>=0.3.1 in /usr/local/lib/python3.7/dist-packages (from google-cloud-storage->earthengine-api) (0.4.1)\n",
            "Requirement already satisfied: pyasn1>=0.1.3 in /usr/local/lib/python3.7/dist-packages (from rsa<5,>=3.1.4; python_version >= \"3.6\"->google-auth>=1.4.1->earthengine-api) (0.4.8)\n",
            "Requirement already satisfied: googleapis-common-protos<2.0dev,>=1.6.0 in /usr/local/lib/python3.7/dist-packages (from google-api-core<2dev,>=1.21.0->google-api-python-client>=1.12.1->earthengine-api) (1.53.0)\n",
            "Requirement already satisfied: pytz in /usr/local/lib/python3.7/dist-packages (from google-api-core<2dev,>=1.21.0->google-api-python-client>=1.12.1->earthengine-api) (2018.9)\n",
            "Requirement already satisfied: requests<3.0.0dev,>=2.18.0 in /usr/local/lib/python3.7/dist-packages (from google-api-core<2dev,>=1.21.0->google-api-python-client>=1.12.1->earthengine-api) (2.23.0)\n",
            "Requirement already satisfied: protobuf>=3.12.0 in /usr/local/lib/python3.7/dist-packages (from google-api-core<2dev,>=1.21.0->google-api-python-client>=1.12.1->earthengine-api) (3.12.4)\n",
            "Requirement already satisfied: packaging>=14.3 in /usr/local/lib/python3.7/dist-packages (from google-api-core<2dev,>=1.21.0->google-api-python-client>=1.12.1->earthengine-api) (20.9)\n",
            "Requirement already satisfied: chardet<4,>=3.0.2 in /usr/local/lib/python3.7/dist-packages (from requests<3.0.0dev,>=2.18.0->google-api-core<2dev,>=1.21.0->google-api-python-client>=1.12.1->earthengine-api) (3.0.4)\n",
            "Requirement already satisfied: idna<3,>=2.5 in /usr/local/lib/python3.7/dist-packages (from requests<3.0.0dev,>=2.18.0->google-api-core<2dev,>=1.21.0->google-api-python-client>=1.12.1->earthengine-api) (2.10)\n",
            "Requirement already satisfied: pyparsing>=2.0.2 in /usr/local/lib/python3.7/dist-packages (from packaging>=14.3->google-api-core<2dev,>=1.21.0->google-api-python-client>=1.12.1->earthengine-api) (2.4.7)\n"
          ],
          "name": "stdout"
        }
      ]
    },
    {
      "cell_type": "markdown",
      "metadata": {
        "id": "nLp6-VARkvCQ"
      },
      "source": [
        "authenticate earthengine to work with your google account"
      ]
    },
    {
      "cell_type": "code",
      "metadata": {
        "colab": {
          "base_uri": "https://localhost:8080/"
        },
        "id": "tjL1jWzHhKWf",
        "outputId": "4b87162f-32a1-4c9d-d974-f771c8806e67"
      },
      "source": [
        "!earthengine authenticate"
      ],
      "execution_count": 5,
      "outputs": [
        {
          "output_type": "stream",
          "text": [
            "WARNING:tensorflow:From /usr/local/lib/python3.7/dist-packages/tensorflow/python/compat/v2_compat.py:96: disable_resource_variables (from tensorflow.python.ops.variable_scope) is deprecated and will be removed in a future version.\n",
            "Instructions for updating:\n",
            "non-resource variables are not supported in the long term\n",
            "To authorize access needed by Earth Engine, open the following URL in a web browser and follow the instructions. If the web browser does not start automatically, please manually browse the URL below.\n",
            "\n",
            "    https://accounts.google.com/o/oauth2/auth?client_id=517222506229-vsmmajv00ul0bs7p89v5m89qs8eb9359.apps.googleusercontent.com&scope=https%3A%2F%2Fwww.googleapis.com%2Fauth%2Fearthengine+https%3A%2F%2Fwww.googleapis.com%2Fauth%2Fdevstorage.full_control&redirect_uri=urn%3Aietf%3Awg%3Aoauth%3A2.0%3Aoob&response_type=code&code_challenge=uDHpF_KRdDJIGLwvkKycUw9kMV1UjK8a4ca4gETUeUs&code_challenge_method=S256\n",
            "\n",
            "The authorization workflow will generate a code, which you should paste in the box below. \n",
            "Enter verification code: 4/1AY0e-g433T9ry_PWUVFbZAK8E5k84D3oVsP1mDqa4X-IZrcNy_BywvgFGBo\n",
            "\n",
            "Successfully saved authorization token.\n"
          ],
          "name": "stdout"
        }
      ]
    },
    {
      "cell_type": "markdown",
      "metadata": {
        "id": "K-fM-emak5H6"
      },
      "source": [
        "test correct earthengine setup for notebook, if no error then ok :)"
      ]
    },
    {
      "cell_type": "code",
      "metadata": {
        "id": "xJGjSh5IiA_u"
      },
      "source": [
        "import ee; ee.Initialize();"
      ],
      "execution_count": 6,
      "outputs": []
    },
    {
      "cell_type": "code",
      "metadata": {
        "id": "RUMRqMyuym06"
      },
      "source": [
        "!pip install -U -q PyDrive"
      ],
      "execution_count": 7,
      "outputs": []
    },
    {
      "cell_type": "markdown",
      "metadata": {
        "id": "eH2_-X1flWbx"
      },
      "source": [
        "sets up gdrive within earthengine for input and output"
      ]
    },
    {
      "cell_type": "code",
      "metadata": {
        "id": "1YirwRGVyvHq"
      },
      "source": [
        "from pydrive.auth import GoogleAuth\n",
        "from pydrive.drive import GoogleDrive\n",
        "from google.colab import auth\n",
        "from oauth2client.client import GoogleCredentials\n",
        "# Authenticate and create the PyDrive client.\n",
        "auth.authenticate_user()\n",
        "gauth = GoogleAuth()\n",
        "gauth.credentials = GoogleCredentials.get_application_default()\n",
        "drive = GoogleDrive(gauth)"
      ],
      "execution_count": 8,
      "outputs": []
    },
    {
      "cell_type": "markdown",
      "metadata": {
        "id": "i6LYW_szlckA"
      },
      "source": [
        "import csv from gdrive"
      ]
    },
    {
      "cell_type": "code",
      "metadata": {
        "colab": {
          "base_uri": "https://localhost:8080/"
        },
        "id": "l5isZmtgy_0k",
        "outputId": "76513f87-e8d4-4361-9c8d-775a5e6c79c1"
      },
      "source": [
        "#paste into link the link of csv file on your gdrive\n",
        "import pandas as pd\n",
        "# Cambiar el id, \"Obtener link\"\n",
        "link = 'https://drive.google.com/open?id=1KhD90vGEdvV7qwSt1W6TQnQYAs_PUdkP'\n",
        "fluff, id = link.split('=')\n",
        "print (id) # Verify that you have everything after '='\n",
        "downloaded = drive.CreateFile({'id':id}) \n",
        "downloaded.GetContentFile('CNN_CENI_COL_79979_ALL.csv')  \n",
        "df3 = pd.read_csv('CNN_CENI_COL_79979_ALL.csv')\n",
        "\n",
        "#cnn_col_2018_annual_month_median_nl"
      ],
      "execution_count": 12,
      "outputs": [
        {
          "output_type": "stream",
          "text": [
            "1KhD90vGEdvV7qwSt1W6TQnQYAs_PUdkP\n"
          ],
          "name": "stdout"
        }
      ]
    },
    {
      "cell_type": "markdown",
      "metadata": {
        "id": "P_P_TNGHlhgJ"
      },
      "source": [
        "check sample of csv"
      ]
    },
    {
      "cell_type": "code",
      "metadata": {
        "colab": {
          "base_uri": "https://localhost:8080/"
        },
        "id": "j5lV4p-Am9O8",
        "outputId": "c41a68a1-20c5-4fe1-9213-5db0691f95a7"
      },
      "source": [
        "df3.shape"
      ],
      "execution_count": 10,
      "outputs": [
        {
          "output_type": "execute_result",
          "data": {
            "text/plain": [
              "(77979, 3)"
            ]
          },
          "metadata": {
            "tags": []
          },
          "execution_count": 10
        }
      ]
    },
    {
      "cell_type": "code",
      "metadata": {
        "id": "ZMH-hD4vhBBo"
      },
      "source": [
        ""
      ],
      "execution_count": null,
      "outputs": []
    },
    {
      "cell_type": "code",
      "metadata": {
        "colab": {
          "base_uri": "https://localhost:8080/",
          "height": 235
        },
        "id": "bpuPKOxBmj7y",
        "outputId": "2f215167-fa28-458c-aae2-725b41b56781"
      },
      "source": [
        "# Set the id = rownumber as index of the DataFrame\n",
        "df3 = df3.set_index('id')\n",
        "\n",
        "df3 = df3.sort_values(by=['id'])\n",
        "df3.head()"
      ],
      "execution_count": 13,
      "outputs": [
        {
          "output_type": "execute_result",
          "data": {
            "text/html": [
              "<div>\n",
              "<style scoped>\n",
              "    .dataframe tbody tr th:only-of-type {\n",
              "        vertical-align: middle;\n",
              "    }\n",
              "\n",
              "    .dataframe tbody tr th {\n",
              "        vertical-align: top;\n",
              "    }\n",
              "\n",
              "    .dataframe thead th {\n",
              "        text-align: right;\n",
              "    }\n",
              "</style>\n",
              "<table border=\"1\" class=\"dataframe\">\n",
              "  <thead>\n",
              "    <tr style=\"text-align: right;\">\n",
              "      <th></th>\n",
              "      <th>lat</th>\n",
              "      <th>long</th>\n",
              "    </tr>\n",
              "    <tr>\n",
              "      <th>id</th>\n",
              "      <th></th>\n",
              "      <th></th>\n",
              "    </tr>\n",
              "  </thead>\n",
              "  <tbody>\n",
              "    <tr>\n",
              "      <th>1</th>\n",
              "      <td>-4.191180</td>\n",
              "      <td>-69.973730</td>\n",
              "    </tr>\n",
              "    <tr>\n",
              "      <th>2</th>\n",
              "      <td>-4.191180</td>\n",
              "      <td>-69.939235</td>\n",
              "    </tr>\n",
              "    <tr>\n",
              "      <th>3</th>\n",
              "      <td>-4.156684</td>\n",
              "      <td>-69.973730</td>\n",
              "    </tr>\n",
              "    <tr>\n",
              "      <th>4</th>\n",
              "      <td>-4.156684</td>\n",
              "      <td>-69.939235</td>\n",
              "    </tr>\n",
              "    <tr>\n",
              "      <th>5</th>\n",
              "      <td>-4.122189</td>\n",
              "      <td>-70.008225</td>\n",
              "    </tr>\n",
              "  </tbody>\n",
              "</table>\n",
              "</div>"
            ],
            "text/plain": [
              "         lat       long\n",
              "id                     \n",
              "1  -4.191180 -69.973730\n",
              "2  -4.191180 -69.939235\n",
              "3  -4.156684 -69.973730\n",
              "4  -4.156684 -69.939235\n",
              "5  -4.122189 -70.008225"
            ]
          },
          "metadata": {
            "tags": []
          },
          "execution_count": 13
        }
      ]
    },
    {
      "cell_type": "code",
      "metadata": {
        "id": "Uk8HdQKtfneO"
      },
      "source": [
        "#SENTINEL export\n",
        "\n",
        "import ee\n",
        "\n",
        "ee.Initialize()\n",
        "\n",
        "##################################\n",
        "#manually created bounding polygon for Colombia\n",
        "\n",
        "#COLOMBIA\n",
        "tha_shp = ee.Geometry.Polygon(\n",
        "        [[[-78.9909352282, 12.4373031682],\n",
        "          [-78.9909352282, -4.29818694419],\n",
        "          [-66.8763258531, -4.29818694419],\n",
        "          [-66.8763258531, 12.4373031682]]]);\n",
        "\n",
        "#SENTINEL START\n",
        "#/**\n",
        "# * Function to mask clouds using the Sentinel-2 QA band\n",
        "# * @param {ee.Image} image Sentinel-2 image\n",
        "# * @return {ee.Image} cloud masked Sentinel-2 image\n",
        "# */\n",
        "def maskS2clouds(image):\n",
        "    qa = image.select('QA60')\n",
        "#  // Bits 10 and 11 are clouds and cirrus, respectively.\n",
        "    cloudBitMask = 1 << 10\n",
        "    cirrusBitMask = 1 << 11\n",
        "#  // Both flags should be set to zero, indicating clear conditions.\n",
        "    mask = qa.bitwiseAnd(cloudBitMask).eq(0).And(qa.bitwiseAnd(cirrusBitMask).eq(0))\n",
        "    return image.updateMask(mask).divide(10000)\n",
        "\n",
        "\n",
        "#// Map the function over one year of data and take the median.\n",
        "#// Load Sentinel-2 TOA reflectance data.\n",
        "\n",
        "rgbVis = {'min': 0.0,'max': 0.3,'bands': ['B4', 'B3', 'B2'],}\n",
        "\n",
        "dataset = ee.ImageCollection('COPERNICUS/S2').filterDate('2016-01-01', '2016-12-31').filterBounds(tha_shp).filter(ee.Filter.lt('CLOUDY_PIXEL_PERCENTAGE', 60)).map(maskS2clouds)\n",
        "\n",
        "upres = dataset.median().visualize(**rgbVis)\n",
        "\n",
        "#################################\n",
        "\n",
        "#downloaded image is black -> switch coordinates :)\n",
        "\n",
        "#all bands must have the same data type when exporting, you should download only the bands you need and cast them to a type that suit all bands.\n",
        "##################################\n",
        "\n",
        "# gives a tuple of column name and series \n",
        "# for each column in the dataframe \n",
        "\n",
        "#i = 1\n",
        "#77979\n",
        "for i in range(1, 77979):\n",
        "  if i > 0 and i < 20 :\n",
        "    c_lon = df3['long'][i]\n",
        "    c_lat = df3['lat'][i]\n",
        "    geometry = ee.Geometry.Point([c_lon, c_lat]).buffer(1920)#1920metres because we want resolution of image 384x384 pixels -> 10x384/2 = 1920\n",
        "    geometry = geometry.getInfo()['coordinates'][0]\n",
        "    task_config = {\n",
        "        'scale': 10,\n",
        "        'region': geometry,\n",
        "        'driveFolder': 'CNN_IMG_COL_2016_3840_TIF_79979_ALL_0_20k',\n",
        "    }\n",
        "\n",
        "    task = ee.batch.Export.image(upres, 'CNN_DIMG_COL_2018_ST_384_3840_13_' + '{:06d}'.format(i), task_config)\n",
        "  \n",
        "        #print('Export Image '+ str(i)+ ' was submitted, please wait ...');\n",
        "\n",
        "    task.start()\n"
      ],
      "execution_count": 15,
      "outputs": []
    },
    {
      "cell_type": "code",
      "metadata": {
        "id": "ItTFrzco0cQi"
      },
      "source": [
        ""
      ],
      "execution_count": null,
      "outputs": []
    }
  ]
}